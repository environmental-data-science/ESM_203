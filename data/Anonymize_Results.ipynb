{
 "cells": [
  {
   "cell_type": "code",
   "execution_count": 20,
   "metadata": {},
   "outputs": [
    {
     "name": "stdout",
     "output_type": "stream",
     "text": [
      "Index(['most_interested', 'most_worried', 'better_at', 'missed_question',\n",
      "       'earth', 'bren', 'hobbies', 'nature'],\n",
      "      dtype='object')\n"
     ]
    }
   ],
   "source": [
    "import pandas as pd\n",
    "import random\n",
    "import os\n",
    "\n",
    "file = 'raw_survey_data_2021.csv'\n",
    "\n",
    "df = pd.read_csv(file)\n",
    "year = '2021'\n",
    "\n",
    "print(df.columns)"
   ]
  },
  {
   "cell_type": "code",
   "execution_count": 18,
   "metadata": {},
   "outputs": [],
   "source": [
    "bren_words = df['bren'].str.cat().split(' ')\n",
    "random.shuffle(bren_words)\n",
    "pd.DataFrame(bren_words).to_csv('why_bren_words_' + year + '.csv')"
   ]
  },
  {
   "cell_type": "code",
   "execution_count": 19,
   "metadata": {},
   "outputs": [],
   "source": [
    "nature_words = df['nature'].str.cat().split(' ')\n",
    "random.shuffle(nature_words)\n",
    "pd.DataFrame(bren_words).to_csv('nature_words_' + year + '.csv')"
   ]
  },
  {
   "cell_type": "code",
   "execution_count": 23,
   "metadata": {},
   "outputs": [
    {
     "ename": "SyntaxError",
     "evalue": "invalid syntax (<ipython-input-23-8beffc9a2f06>, line 1)",
     "output_type": "error",
     "traceback": [
      "\u001b[0;36m  File \u001b[0;32m\"<ipython-input-23-8beffc9a2f06>\"\u001b[0;36m, line \u001b[0;32m1\u001b[0m\n\u001b[0;31m    for column in ['nature', 'earth', 'bren', 'hobbies']\u001b[0m\n\u001b[0m                                                        ^\u001b[0m\n\u001b[0;31mSyntaxError\u001b[0m\u001b[0;31m:\u001b[0m invalid syntax\n"
     ]
    }
   ],
   "source": [
    "for column in ['nature', 'earth', 'bren', 'hobbies']\n",
    "    column = 'hobbies'\n",
    "    words = df[column].str.cat().split(' ')\n",
    "    random.shuffle(words)\n",
    "    pd.DataFrame(words).to_csv(column + '_words_' + year + '.csv')"
   ]
  },
  {
   "cell_type": "code",
   "execution_count": null,
   "metadata": {},
   "outputs": [],
   "source": []
  }
 ],
 "metadata": {
  "kernelspec": {
   "display_name": "Python 3",
   "language": "python",
   "name": "python3"
  },
  "language_info": {
   "codemirror_mode": {
    "name": "ipython",
    "version": 3
   },
   "file_extension": ".py",
   "mimetype": "text/x-python",
   "name": "python",
   "nbconvert_exporter": "python",
   "pygments_lexer": "ipython3",
   "version": "3.7.8"
  }
 },
 "nbformat": 4,
 "nbformat_minor": 4
}
