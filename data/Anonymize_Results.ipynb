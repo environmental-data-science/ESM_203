{
 "cells": [
  {
   "cell_type": "code",
   "execution_count": 25,
   "metadata": {},
   "outputs": [
    {
     "name": "stdout",
     "output_type": "stream",
     "text": [
      "Index(['most_interested', 'most_worried', 'better_at', 'missed_question',\n",
      "       'earth', 'bren', 'hobbies', 'nature'],\n",
      "      dtype='object')\n"
     ]
    }
   ],
   "source": [
    "import pandas as pd\n",
    "import random\n",
    "import os\n",
    "\n",
    "# this file is kept out of the repo.\n",
    "file = 'raw_survey_data_2021.csv'\n",
    "\n",
    "df = pd.read_csv(file)\n",
    "year = '2021'\n",
    "\n",
    "print(df.columns)"
   ]
  },
  {
   "cell_type": "code",
   "execution_count": 26,
   "metadata": {},
   "outputs": [],
   "source": [
    "# Export randomized anonymized responses\n",
    "for column in ['nature', 'earth', 'bren', 'hobbies']:\n",
    "    column = 'hobbies'\n",
    "    words = df[column].str.cat().split(' ')\n",
    "    random.shuffle(words)\n",
    "    pd.DataFrame(words).to_csv(column + '_words_' + year + '.csv')"
   ]
  },
  {
   "cell_type": "code",
   "execution_count": null,
   "metadata": {},
   "outputs": [],
   "source": []
  }
 ],
 "metadata": {
  "kernelspec": {
   "display_name": "Python 3",
   "language": "python",
   "name": "python3"
  },
  "language_info": {
   "codemirror_mode": {
    "name": "ipython",
    "version": 3
   },
   "file_extension": ".py",
   "mimetype": "text/x-python",
   "name": "python",
   "nbconvert_exporter": "python",
   "pygments_lexer": "ipython3",
   "version": "3.7.8"
  }
 },
 "nbformat": 4,
 "nbformat_minor": 4
}
